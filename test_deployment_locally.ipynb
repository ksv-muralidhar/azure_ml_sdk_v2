{
 "cells": [
  {
   "cell_type": "code",
   "execution_count": null,
   "id": "e47cca61-268d-4a49-a080-689c270185b5",
   "metadata": {
    "tags": []
   },
   "outputs": [],
   "source": [
    "# !pip install azure-ai-ml\n",
    "# !pip install azure-identity\n",
    "# !pip install azureml-inference-server-http"
   ]
  },
  {
   "cell_type": "code",
   "execution_count": null,
   "id": "17544c37-1879-4eb3-9e01-473371905b00",
   "metadata": {
    "tags": []
   },
   "outputs": [],
   "source": [
    "# !az login"
   ]
  },
  {
   "cell_type": "code",
   "execution_count": null,
   "id": "c56cbbaa",
   "metadata": {},
   "outputs": [],
   "source": [
    "# Before creating deployment in Azure, you need to test/debug it locally.\n",
    "# local deployment must have Docker and Azure CLI v2 installed on your local machine"
   ]
  },
  {
   "cell_type": "code",
   "execution_count": 1,
   "id": "bfae7139-1002-4043-bc23-7af48fc1eab8",
   "metadata": {
    "tags": []
   },
   "outputs": [],
   "source": [
    "from azure.ai.ml import MLClient\n",
    "from azure.identity import DefaultAzureCredential\n",
    "from azure.ai.ml import MLClient\n",
    "from azure.identity import DefaultAzureCredential\n",
    "from datetime import datetime\n",
    "import os\n",
    "import tempfile\n",
    "from azure.ai.ml.entities import (ManagedOnlineEndpoint,\n",
    "                                  ManagedOnlineDeployment,\n",
    "                                  Model,\n",
    "                                  Environment,\n",
    "                                  CodeConfiguration\n",
    "                                  )\n",
    "from training_scripts.utils.logging import Logger\n",
    "\n",
    "subscription_id = '' # update subscription id\n",
    "resource_group = '' # update ml resource group\n",
    "workspace = '' # update ml workspace name\n",
    "\n",
    "ml_client = MLClient(DefaultAzureCredential(), subscription_id, resource_group, workspace)"
   ]
  },
  {
   "cell_type": "code",
   "execution_count": 7,
   "id": "3a6d6443-7703-4aeb-b50f-b4712c11bc85",
   "metadata": {
    "tags": []
   },
   "outputs": [],
   "source": [
    "# add model.bin and conda_env.yaml to current directory in local machine\n",
    "# model.bin can  be found under artifacts section of current registered model. Download it\n",
    "# environment yaml can be found in latest registered env. Copy the yaml code and paste it in conda_env.yaml in local machine \n",
    "latest_model = Model(path=\"model.bin\") \n",
    "latest_env = Environment(conda_file=\"conda_env.yaml\",\n",
    "                         image=\"mcr.microsoft.com/azureml/openmpi4.1.0-ubuntu20.04:latest\"\n",
    "                        )"
   ]
  },
  {
   "cell_type": "code",
   "execution_count": 8,
   "id": "44c06b79-bf2f-4b45-8e93-92b52d3dce20",
   "metadata": {
    "tags": []
   },
   "outputs": [],
   "source": [
    "# endpoint name should be unique in region\n",
    "endpoint_name = \"endpt-\" + datetime.datetime.now().strftime(\"%m%d%H%M%f\")\n",
    "\n",
    "# create an online endpoint\n",
    "endpoint = ManagedOnlineEndpoint(name = endpoint_name, description=\"my endpoint\",auth_mode=\"key\")"
   ]
  },
  {
   "cell_type": "code",
   "execution_count": 9,
   "id": "5b27e0c1-38a0-40d5-b89b-2afb3ade590e",
   "metadata": {
    "tags": []
   },
   "outputs": [],
   "source": [
    "deployment = ManagedOnlineDeployment(name=\"my-deployment\",\n",
    "                                     endpoint_name=endpoint_name,\n",
    "                                     model=latest_model,\n",
    "                                     environment=latest_env,\n",
    "                                     code_configuration=CodeConfiguration(code=\".\", scoring_script=\"scoring_script.py\"),\n",
    "                                     instance_type=\"Standard_DS3_v2\",\n",
    "                                     instance_count=1,\n",
    "                                     environment_variables={'CLOUDPICKLE_MODEL_NAME_TO_SAVE': \"model.bin\"}\n",
    "                                    )"
   ]
  },
  {
   "cell_type": "code",
   "execution_count": null,
   "id": "0c1ae772-4ce0-4ae5-821e-8f04294d5a25",
   "metadata": {
    "tags": []
   },
   "outputs": [],
   "source": [
    "# create or update deployment with local=True for local deployment \n",
    "ml_client.online_endpoints.begin_create_or_update(endpoint=endpoint, local=True)"
   ]
  },
  {
   "cell_type": "code",
   "execution_count": null,
   "id": "bda46b7b-1266-4ee0-9492-1b355d176d2b",
   "metadata": {
    "tags": []
   },
   "outputs": [],
   "source": [
    "# 'provisioning_state': 'Succeeded' means deployment is successfully created\n",
    "ml_client.online_deployments.get(name=\"my-deployment\", endpoint_name=endpoint_name, local=True)"
   ]
  },
  {
   "cell_type": "code",
   "execution_count": 118,
   "id": "6d73c4fc-ef85-4880-b891-c0bbe1cabe96",
   "metadata": {
    "tags": []
   },
   "outputs": [
    {
     "name": "stdout",
     "output_type": "stream",
     "text": [
      "{\"input\": [\"123abc$%%$%gGG\", \"1QW!@#asQQ\", \"Adf^%$d1\"], \"strength\": [\"Very strong\", \"Strong\", \"Strong\"], \"confidence\": [1.0, 1.0, 1.0], \"status\": 200, \"message\": \"\"}\n",
      "<class 'str'>\n"
     ]
    }
   ],
   "source": [
    "# create sample.json with payload in current dir of local machine\n",
    "response = ml_client.online_endpoints.invoke(endpoint_name=endpoint_name,\n",
    "                                             request_file=\"sample.json\",\n",
    "                                             local=True\n",
    "                                            )\n",
    "print(response)\n",
    "print(type(response))"
   ]
  },
  {
   "cell_type": "code",
   "execution_count": null,
   "id": "0a6611e9-3b39-468c-9ca5-4507ea1b4da3",
   "metadata": {
    "tags": []
   },
   "outputs": [],
   "source": [
    "# print the logs of deployment\n",
    "print(ml_client.online_deployments.get_logs(name=\"my-deployment\", \n",
    "                                            endpoint_name=endpoint_name, \n",
    "                                            local=True, lines=500\n",
    "                                           ))"
   ]
  },
  {
   "cell_type": "code",
   "execution_count": null,
   "id": "bfc8948f-ca43-4452-965f-8c0a9c50b23e",
   "metadata": {
    "tags": []
   },
   "outputs": [],
   "source": []
  }
 ],
 "metadata": {
  "kernelspec": {
   "display_name": "Python 3 (ipykernel)",
   "language": "python",
   "name": "python3"
  },
  "language_info": {
   "codemirror_mode": {
    "name": "ipython",
    "version": 3
   },
   "file_extension": ".py",
   "mimetype": "text/x-python",
   "name": "python",
   "nbconvert_exporter": "python",
   "pygments_lexer": "ipython3",
   "version": "3.11.7"
  }
 },
 "nbformat": 4,
 "nbformat_minor": 5
}
